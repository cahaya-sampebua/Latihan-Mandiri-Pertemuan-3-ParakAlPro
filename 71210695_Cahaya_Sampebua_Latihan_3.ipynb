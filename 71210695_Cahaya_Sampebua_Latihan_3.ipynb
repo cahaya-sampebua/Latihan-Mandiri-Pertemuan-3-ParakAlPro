{
  "nbformat": 4,
  "nbformat_minor": 0,
  "metadata": {
    "colab": {
      "provenance": []
    },
    "kernelspec": {
      "name": "python3",
      "display_name": "Python 3"
    },
    "language_info": {
      "name": "python"
    }
  },
  "cells": [
    {
      "cell_type": "code",
      "execution_count": null,
      "metadata": {
        "id": "xjh6QBB6OvZU"
      },
      "outputs": [],
      "source": [
        "#Soal 1\n",
        "#3.1\n",
        "suhuInputan = input(\"Masukkan suhu tubuh: \")\n",
        "try:\n",
        "  suhu = int(suhuInputan)\n",
        "  if suhu >= 38:\n",
        "    print(\"Anda demam\")\n",
        "  else:\n",
        "    print(\"Anda tidak demam\")\n",
        "except:\n",
        "  print(\"Maaf, Inputan Yang Anda Masukkan Salah\")\n"
      ]
    },
    {
      "cell_type": "code",
      "source": [],
      "metadata": {
        "id": "m6ktrmpUe7Og"
      },
      "execution_count": null,
      "outputs": []
    },
    {
      "cell_type": "code",
      "source": [
        "#3.3\n",
        "# input a, b dan c\n",
        "masukkan_a = input(\"Masukkan bilangan pertama: \")\n",
        "masukkan_b = input(\"Masukkan bilangan kedua: \")\n",
        "masukkan_c = input(\"Masukkan bilangan ketiga: \")\n",
        "\n",
        "# secara berurutan tulis kriteria untuk a, b, dan c\n",
        "try:\n",
        "    a = int(masukkan_a)\n",
        "    b = int(masukkan_b)\n",
        "    c = int(masukkan_c)\n",
        "\n",
        "    if a > b and a > c:\n",
        "        print(\"Terbesar: \", a)\n",
        "    elif b > a and b > c:\n",
        "        print(\"Terbesar: \", b)\n",
        "    elif c > a and c > b:\n",
        "        print(\"Terbesar: \", c)\n",
        "except:\n",
        "    print(\"Input a, b, c, tidak ada yang sesuai\")"
      ],
      "metadata": {
        "id": "XlDy9RRDWI9l"
      },
      "execution_count": null,
      "outputs": []
    },
    {
      "cell_type": "code",
      "source": [
        "#Soal 2\n",
        "bilangan = int(input(\"Masukkan suatu bilangan: \"))\n",
        "tampilanbilangan = \"Positif\" if bilangan > 0 else \"Negatif\" if bilangan < 0 else \"Nol\"\n",
        "print(tampilanbilangan)"
      ],
      "metadata": {
        "id": "ytI2X-Afh_Ry"
      },
      "execution_count": null,
      "outputs": []
    },
    {
      "cell_type": "code",
      "source": [
        "#Soal 3\n",
        "try:\n",
        "    bulan = int(input(\"Masukkan bulan (1-12): \"))\n",
        "    if bulan < 8 and bulan > 0:\n",
        "        if bulan == 2:\n",
        "            hari = 29\n",
        "        elif bulan % 2 == 1:\n",
        "            hari = 31\n",
        "        elif bulan % 2 == 0:\n",
        "            hari = 30\n",
        "    elif bulan < 13 and bulan > 0:\n",
        "        if bulan % 2 == 1:\n",
        "            hari = 30\n",
        "        else:\n",
        "            hari = 31\n",
        "    else:\n",
        "        raise ValueError(\"Bulan yang diinputkan tidak valid\")\n",
        "    print(\"Jumlah hari:\", hari)\n",
        "except ValueError:\n",
        "    print(\"Bulan yang diinputkan tidak valid\")"
      ],
      "metadata": {
        "id": "rCQHXgixs2Az"
      },
      "execution_count": null,
      "outputs": []
    },
    {
      "cell_type": "code",
      "source": [
        "#Soal 4\n",
        "try:\n",
        "  sisi1 = int(input(\"Masukkan sisi 1: \"))\n",
        "  sisi2 = int(input(\"Masukkan sisi 2: \"))\n",
        "  sisi3 = int(input(\"Masukkan sisi 3: \"))\n",
        "\n",
        "  if sisi1 != sisi2 and sisi2 != sisi3 and sisi3 != sisi1:\n",
        "    print(\"Tidak ada yang sama\")\n",
        "\n",
        "  elif sisi1 == sisi2 and sisi2 == sisi3 and sisi1 == sisi3:\n",
        "    print(\"3 sisi sama\")\n",
        "\n",
        "  elif sisi1 == sisi2 or sisi2 == sisi3 or sisi1 == sisi3:\n",
        "    print(\"2 sisi sama\")\n",
        "except:\n",
        "  print(\"Inputan yang anda masukkan salah\")"
      ],
      "metadata": {
        "id": "LPoAOfEZe--l"
      },
      "execution_count": null,
      "outputs": []
    }
  ]
}